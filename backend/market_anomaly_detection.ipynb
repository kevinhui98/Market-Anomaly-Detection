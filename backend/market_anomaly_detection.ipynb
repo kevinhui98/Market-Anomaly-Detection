{
 "cells": [
  {
   "cell_type": "code",
   "execution_count": 37,
   "metadata": {},
   "outputs": [],
   "source": [
    "import pandas as pd\n",
    "import numpy as np\n",
    "import seaborn as sns                       #visualisation\n",
    "import matplotlib.pyplot as plt             #visualisation\n",
    "from sklearn.decomposition import PCA\n",
    "from sklearn.preprocessing import StandardScaler\n",
    "# split X and y into training and testing sets\n",
    "from sklearn.model_selection import train_test_split\n",
    "%matplotlib inline     \n",
    "sns.set(color_codes=True)"
   ]
  },
  {
   "cell_type": "code",
   "execution_count": 34,
   "metadata": {},
   "outputs": [
    {
     "data": {
      "text/html": [
       "<div>\n",
       "<style scoped>\n",
       "    .dataframe tbody tr th:only-of-type {\n",
       "        vertical-align: middle;\n",
       "    }\n",
       "\n",
       "    .dataframe tbody tr th {\n",
       "        vertical-align: top;\n",
       "    }\n",
       "\n",
       "    .dataframe thead th {\n",
       "        text-align: right;\n",
       "    }\n",
       "</style>\n",
       "<table border=\"1\" class=\"dataframe\">\n",
       "  <thead>\n",
       "    <tr style=\"text-align: right;\">\n",
       "      <th></th>\n",
       "      <th>Y</th>\n",
       "      <th>Data</th>\n",
       "      <th>XAU BGNL</th>\n",
       "      <th>ECSURPUS</th>\n",
       "      <th>BDIY</th>\n",
       "      <th>CRY</th>\n",
       "      <th>DXY</th>\n",
       "      <th>JPY</th>\n",
       "      <th>GBP</th>\n",
       "      <th>Cl1</th>\n",
       "      <th>...</th>\n",
       "      <th>LP01TREU</th>\n",
       "      <th>EMUSTRUU</th>\n",
       "      <th>LF94TRUU</th>\n",
       "      <th>MXUS</th>\n",
       "      <th>MXEU</th>\n",
       "      <th>MXJP</th>\n",
       "      <th>MXBR</th>\n",
       "      <th>MXRU</th>\n",
       "      <th>MXIN</th>\n",
       "      <th>MXCN</th>\n",
       "    </tr>\n",
       "  </thead>\n",
       "  <tbody>\n",
       "    <tr>\n",
       "      <th>0</th>\n",
       "      <td>0</td>\n",
       "      <td>1/11/2000</td>\n",
       "      <td>283.25</td>\n",
       "      <td>0.077</td>\n",
       "      <td>1388.0</td>\n",
       "      <td>157.26</td>\n",
       "      <td>100.56</td>\n",
       "      <td>105.86</td>\n",
       "      <td>1.646</td>\n",
       "      <td>25.77</td>\n",
       "      <td>...</td>\n",
       "      <td>116.464</td>\n",
       "      <td>230.527</td>\n",
       "      <td>123.762</td>\n",
       "      <td>1416.12</td>\n",
       "      <td>127.75</td>\n",
       "      <td>990.59</td>\n",
       "      <td>856.76</td>\n",
       "      <td>224.33</td>\n",
       "      <td>217.34</td>\n",
       "      <td>34.30</td>\n",
       "    </tr>\n",
       "    <tr>\n",
       "      <th>1</th>\n",
       "      <td>0</td>\n",
       "      <td>1/18/2000</td>\n",
       "      <td>287.65</td>\n",
       "      <td>0.043</td>\n",
       "      <td>1405.0</td>\n",
       "      <td>165.01</td>\n",
       "      <td>101.86</td>\n",
       "      <td>105.47</td>\n",
       "      <td>1.638</td>\n",
       "      <td>28.85</td>\n",
       "      <td>...</td>\n",
       "      <td>117.267</td>\n",
       "      <td>231.377</td>\n",
       "      <td>123.762</td>\n",
       "      <td>1428.79</td>\n",
       "      <td>129.50</td>\n",
       "      <td>993.98</td>\n",
       "      <td>925.22</td>\n",
       "      <td>234.37</td>\n",
       "      <td>227.08</td>\n",
       "      <td>32.74</td>\n",
       "    </tr>\n",
       "    <tr>\n",
       "      <th>2</th>\n",
       "      <td>0</td>\n",
       "      <td>1/25/2000</td>\n",
       "      <td>287.15</td>\n",
       "      <td>0.135</td>\n",
       "      <td>1368.0</td>\n",
       "      <td>167.24</td>\n",
       "      <td>102.41</td>\n",
       "      <td>106.04</td>\n",
       "      <td>1.650</td>\n",
       "      <td>28.28</td>\n",
       "      <td>...</td>\n",
       "      <td>117.995</td>\n",
       "      <td>232.390</td>\n",
       "      <td>123.762</td>\n",
       "      <td>1385.93</td>\n",
       "      <td>126.48</td>\n",
       "      <td>974.83</td>\n",
       "      <td>886.93</td>\n",
       "      <td>216.82</td>\n",
       "      <td>233.00</td>\n",
       "      <td>32.46</td>\n",
       "    </tr>\n",
       "    <tr>\n",
       "      <th>3</th>\n",
       "      <td>0</td>\n",
       "      <td>2/1/2000</td>\n",
       "      <td>282.75</td>\n",
       "      <td>0.191</td>\n",
       "      <td>1311.0</td>\n",
       "      <td>166.85</td>\n",
       "      <td>104.92</td>\n",
       "      <td>107.85</td>\n",
       "      <td>1.611</td>\n",
       "      <td>28.22</td>\n",
       "      <td>...</td>\n",
       "      <td>120.510</td>\n",
       "      <td>231.942</td>\n",
       "      <td>122.328</td>\n",
       "      <td>1385.31</td>\n",
       "      <td>129.19</td>\n",
       "      <td>1007.12</td>\n",
       "      <td>842.60</td>\n",
       "      <td>201.89</td>\n",
       "      <td>237.48</td>\n",
       "      <td>31.29</td>\n",
       "    </tr>\n",
       "    <tr>\n",
       "      <th>4</th>\n",
       "      <td>1</td>\n",
       "      <td>2/8/2000</td>\n",
       "      <td>298.40</td>\n",
       "      <td>0.312</td>\n",
       "      <td>1277.0</td>\n",
       "      <td>165.43</td>\n",
       "      <td>104.22</td>\n",
       "      <td>109.30</td>\n",
       "      <td>1.611</td>\n",
       "      <td>28.02</td>\n",
       "      <td>...</td>\n",
       "      <td>118.791</td>\n",
       "      <td>237.812</td>\n",
       "      <td>122.328</td>\n",
       "      <td>1411.95</td>\n",
       "      <td>134.67</td>\n",
       "      <td>1034.58</td>\n",
       "      <td>945.15</td>\n",
       "      <td>218.00</td>\n",
       "      <td>258.02</td>\n",
       "      <td>31.32</td>\n",
       "    </tr>\n",
       "  </tbody>\n",
       "</table>\n",
       "<p>5 rows × 44 columns</p>\n",
       "</div>"
      ],
      "text/plain": [
       "   Y       Data  XAU BGNL  ECSURPUS    BDIY     CRY     DXY     JPY    GBP  \\\n",
       "0  0  1/11/2000    283.25     0.077  1388.0  157.26  100.56  105.86  1.646   \n",
       "1  0  1/18/2000    287.65     0.043  1405.0  165.01  101.86  105.47  1.638   \n",
       "2  0  1/25/2000    287.15     0.135  1368.0  167.24  102.41  106.04  1.650   \n",
       "3  0   2/1/2000    282.75     0.191  1311.0  166.85  104.92  107.85  1.611   \n",
       "4  1   2/8/2000    298.40     0.312  1277.0  165.43  104.22  109.30  1.611   \n",
       "\n",
       "     Cl1  ...  LP01TREU  EMUSTRUU  LF94TRUU     MXUS    MXEU     MXJP    MXBR  \\\n",
       "0  25.77  ...   116.464   230.527   123.762  1416.12  127.75   990.59  856.76   \n",
       "1  28.85  ...   117.267   231.377   123.762  1428.79  129.50   993.98  925.22   \n",
       "2  28.28  ...   117.995   232.390   123.762  1385.93  126.48   974.83  886.93   \n",
       "3  28.22  ...   120.510   231.942   122.328  1385.31  129.19  1007.12  842.60   \n",
       "4  28.02  ...   118.791   237.812   122.328  1411.95  134.67  1034.58  945.15   \n",
       "\n",
       "     MXRU    MXIN   MXCN  \n",
       "0  224.33  217.34  34.30  \n",
       "1  234.37  227.08  32.74  \n",
       "2  216.82  233.00  32.46  \n",
       "3  201.89  237.48  31.29  \n",
       "4  218.00  258.02  31.32  \n",
       "\n",
       "[5 rows x 44 columns]"
      ]
     },
     "execution_count": 34,
     "metadata": {},
     "output_type": "execute_result"
    }
   ],
   "source": [
    "df = pd.read_csv(\"FinancialMarketData.xlsx - EWS.csv\")\n",
    "# To display the top 5 rows \n",
    "df.head(5)   "
   ]
  },
  {
   "cell_type": "code",
   "execution_count": 6,
   "metadata": {},
   "outputs": [
    {
     "name": "stdout",
     "output_type": "stream",
     "text": [
      "<class 'pandas.core.frame.DataFrame'>\n",
      "RangeIndex: 1111 entries, 0 to 1110\n",
      "Data columns (total 44 columns):\n",
      " #   Column     Non-Null Count  Dtype  \n",
      "---  ------     --------------  -----  \n",
      " 0   Y          1111 non-null   int64  \n",
      " 1   Data       1111 non-null   object \n",
      " 2   XAU BGNL   1111 non-null   float64\n",
      " 3   ECSURPUS   1111 non-null   float64\n",
      " 4   BDIY       1111 non-null   float64\n",
      " 5   CRY        1111 non-null   float64\n",
      " 6   DXY        1111 non-null   float64\n",
      " 7   JPY        1111 non-null   float64\n",
      " 8   GBP        1111 non-null   float64\n",
      " 9   Cl1        1111 non-null   float64\n",
      " 10  VIX        1111 non-null   float64\n",
      " 11  USGG30YR   1111 non-null   float64\n",
      " 12  GT10       1111 non-null   float64\n",
      " 13  USGG2YR    1111 non-null   float64\n",
      " 14  USGG3M     1111 non-null   float64\n",
      " 15  US0001M    1111 non-null   float64\n",
      " 16  GTDEM30Y   1111 non-null   float64\n",
      " 17  GTDEM10Y   1111 non-null   float64\n",
      " 18  GTDEM2Y    1111 non-null   float64\n",
      " 19  EONIA      1111 non-null   float64\n",
      " 20  GTITL30YR  1111 non-null   float64\n",
      " 21  GTITL10YR  1111 non-null   float64\n",
      " 22  GTITL2YR   1111 non-null   float64\n",
      " 23  GTJPY30YR  1111 non-null   float64\n",
      " 24  GTJPY10YR  1111 non-null   float64\n",
      " 25  GTJPY2YR   1111 non-null   float64\n",
      " 26  GTGBP30Y   1111 non-null   float64\n",
      " 27  GTGBP20Y   1111 non-null   float64\n",
      " 28  GTGBP2Y    1111 non-null   float64\n",
      " 29  LUMSTRUU   1111 non-null   float64\n",
      " 30  LMBITR     1111 non-null   float64\n",
      " 31  LUACTRUU   1111 non-null   float64\n",
      " 32  LF98TRUU   1111 non-null   float64\n",
      " 33  LG30TRUU   1111 non-null   float64\n",
      " 34  LP01TREU   1111 non-null   float64\n",
      " 35  EMUSTRUU   1111 non-null   float64\n",
      " 36  LF94TRUU   1111 non-null   float64\n",
      " 37  MXUS       1111 non-null   float64\n",
      " 38  MXEU       1111 non-null   float64\n",
      " 39  MXJP       1111 non-null   float64\n",
      " 40  MXBR       1111 non-null   float64\n",
      " 41  MXRU       1111 non-null   float64\n",
      " 42  MXIN       1111 non-null   float64\n",
      " 43  MXCN       1111 non-null   float64\n",
      "dtypes: float64(42), int64(1), object(1)\n",
      "memory usage: 382.0+ KB\n"
     ]
    }
   ],
   "source": [
    "#data information \n",
    "df.info()"
   ]
  },
  {
   "cell_type": "code",
   "execution_count": 28,
   "metadata": {},
   "outputs": [
    {
     "data": {
      "text/plain": [
       "count    1111.000000\n",
       "mean       19.992169\n",
       "std         8.642157\n",
       "min         9.430000\n",
       "25%        13.640000\n",
       "50%        17.980000\n",
       "75%        23.625000\n",
       "max        75.910000\n",
       "Name: VIX, dtype: float64"
      ]
     },
     "execution_count": 28,
     "metadata": {},
     "output_type": "execute_result"
    }
   ],
   "source": [
    "# describing the data\n",
    "df[\"VIX\"].describe()"
   ]
  },
  {
   "cell_type": "code",
   "execution_count": 30,
   "metadata": {},
   "outputs": [
    {
     "data": {
      "text/plain": [
       "<Axes: xlabel='Y', ylabel='VIX'>"
      ]
     },
     "execution_count": 30,
     "metadata": {},
     "output_type": "execute_result"
    },
    {
     "data": {
      "image/png": "[encoded data removed]",
      "text/plain": [
       "<Figure size 640x480 with 1 Axes>"
      ]
     },
     "metadata": {},
     "output_type": "display_data"
    }
   ],
   "source": [
    "#plotting box plot between alcohol and quality\n",
    "sns.boxplot(x='Y', y=\"VIX\", data=df)\n"
   ]
  },
  {
   "cell_type": "code",
   "execution_count": 38,
   "metadata": {},
   "outputs": [
    {
     "ename": "NameError",
     "evalue": "name 'X' is not defined",
     "output_type": "error",
     "traceback": [
      "\u001b[0;31m---------------------------------------------------------------------------\u001b[0m",
      "\u001b[0;31mNameError\u001b[0m                                 Traceback (most recent call last)",
      "Cell \u001b[0;32mIn[38], line 1\u001b[0m\n\u001b[0;32m----> 1\u001b[0m X_train, X_test, y_train, y_test \u001b[38;5;241m=\u001b[39m train_test_split(X, y, test_size\u001b[38;5;241m=\u001b[39m\u001b[38;5;241m0.25\u001b[39m, random_state\u001b[38;5;241m=\u001b[39m\u001b[38;5;241m16\u001b[39m)\n",
      "\u001b[0;31mNameError\u001b[0m: name 'X' is not defined"
     ]
    }
   ],
   "source": [
    "X_train, X_test, y_train, y_test = train_test_split(X, y, test_size=0.25, random_state=16)"
   ]
  },
  {
   "cell_type": "code",
   "execution_count": null,
   "metadata": {},
   "outputs": [],
   "source": []
  }
 ],
 "metadata": {
  "kernelspec": {
   "display_name": "base",
   "language": "python",
   "name": "python3"
  },
  "language_info": {
   "codemirror_mode": {
    "name": "ipython",
    "version": 3
   },
   "file_extension": ".py",
   "mimetype": "text/x-python",
   "name": "python",
   "nbconvert_exporter": "python",
   "pygments_lexer": "ipython3",
   "version": "3.12.4"
  }
 },
 "nbformat": 4,
 "nbformat_minor": 2
}
